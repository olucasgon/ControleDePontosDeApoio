{
 "cells": [
  {
   "cell_type": "markdown",
   "metadata": {},
   "source": [
    "Exemplo de uso da API de Funcionários"
   ]
  },
  {
   "cell_type": "markdown",
   "metadata": {},
   "source": [
    "Definição da URL de acesso a API"
   ]
  },
  {
   "cell_type": "code",
   "execution_count": 9,
   "metadata": {},
   "outputs": [],
   "source": [
    "import requests\n",
    "URL = \"http://localhost:8080/api/funcionarios\""
   ]
  },
  {
   "cell_type": "markdown",
   "metadata": {},
   "source": [
    "Endpoint para salvar um funcionário no banco de dados. O funcionário deve possuir: id, nome, salário e departamento."
   ]
  },
  {
   "cell_type": "markdown",
   "metadata": {},
   "source": [
    "Json contendo os dados do novo funcionário."
   ]
  },
  {
   "cell_type": "code",
   "execution_count": null,
   "metadata": {},
   "outputs": [],
   "source": [
    "funcionario = {\n",
    "  \"id\": 23,\n",
    "  \"nome\": \"Delmir\",\n",
    "  \"salario\": 10000,\n",
    "  \"depto_id\": 2\n",
    "}"
   ]
  },
  {
   "cell_type": "markdown",
   "metadata": {},
   "source": [
    "Requisição post para a API passando o json com os dados e salvando no BD. A propriedade url recebe a rota para o endpoint que realiza o post. A propriedade data recebe os dados que devem ser salvos."
   ]
  },
  {
   "cell_type": "code",
   "execution_count": 11,
   "metadata": {},
   "outputs": [],
   "source": [
    "response = requests.post(\n",
    "    url = URL,\n",
    "    data = funcionario\n",
    ")"
   ]
  },
  {
   "cell_type": "markdown",
   "metadata": {},
   "source": [
    "O nome do funcionário não pode conter caracteres especiais e números. Caso contenha caracteres especiais ou números será retornado o código HTTP 422"
   ]
  },
  {
   "cell_type": "code",
   "execution_count": 20,
   "metadata": {},
   "outputs": [
    {
     "name": "stdout",
     "output_type": "stream",
     "text": [
      "<Response [422]>\n"
     ]
    }
   ],
   "source": [
    "funcionario = {\n",
    "  \"id\": 26,\n",
    "  \"nome\": \"Miguel123\",\n",
    "  \"salario\": 5000,\n",
    "  \"depto_id\": 1\n",
    "}\n",
    "response = requests.post(\n",
    "    url = URL,\n",
    "    data = funcionario\n",
    ")\n",
    "print(response)"
   ]
  },
  {
   "cell_type": "markdown",
   "metadata": {},
   "source": [
    "Exemplo de chamada para obter os dados de um funcionário pelo id "
   ]
  },
  {
   "cell_type": "markdown",
   "metadata": {},
   "source": [
    "endpoint: /api/funcionarios/<id>\n",
    "parâmetros: id - Representa o id do funcionario"
   ]
  },
  {
   "cell_type": "code",
   "execution_count": 21,
   "metadata": {},
   "outputs": [
    {
     "data": {
      "text/plain": [
       "'{\\n  \"depto_id\": 1,\\n  \"id\": 24,\\n  \"nome\": \"QUEOPS\",\\n  \"salario\": 3000.0\\n}\\n'"
      ]
     },
     "execution_count": 21,
     "metadata": {},
     "output_type": "execute_result"
    }
   ],
   "source": [
    "response = requests.get(\n",
    "    url = URL + \"/24\" \n",
    ")\n",
    "response.text"
   ]
  },
  {
   "cell_type": "markdown",
   "metadata": {},
   "source": [
    "Obter todos os funcionários cadastrados no banco de dados"
   ]
  },
  {
   "cell_type": "code",
   "execution_count": 22,
   "metadata": {},
   "outputs": [
    {
     "data": {
      "text/plain": [
       "'[\\n  {\\n    \"depto_id\": 1,\\n    \"id\": 11,\\n    \"nome\": \"taina\",\\n    \"salario\": 1000.5\\n  },\\n  {\\n    \"depto_id\": 1,\\n    \"id\": 5,\\n    \"nome\": \"Leonardo\",\\n    \"salario\": 1000.5\\n  },\\n  {\\n    \"depto_id\": 1,\\n    \"id\": 10,\\n    \"nome\": \"Arthur\",\\n    \"salario\": 1000.5\\n  },\\n  {\\n    \"depto_id\": 1,\\n    \"id\": 9,\\n    \"nome\": \"Caio\",\\n    \"salario\": 1000.5\\n  },\\n  {\\n    \"depto_id\": 1,\\n    \"id\": 2,\\n    \"nome\": \"Douglas\",\\n    \"salario\": 1000.5\\n  },\\n  {\\n    \"depto_id\": 2,\\n    \"id\": 1,\\n    \"nome\": \"Aline\",\\n    \"salario\": 4000.0\\n  },\\n  {\\n    \"depto_id\": 2,\\n    \"id\": 3,\\n    \"nome\": \"Vitor\",\\n    \"salario\": 100.0\\n  },\\n  {\\n    \"depto_id\": 1,\\n    \"id\": 4,\\n    \"nome\": \"Lara\",\\n    \"salario\": 5000.0\\n  },\\n  {\\n    \"depto_id\": 1,\\n    \"id\": 6,\\n    \"nome\": \"Gabriel\",\\n    \"salario\": 50000.0\\n  },\\n  {\\n    \"depto_id\": 2,\\n    \"id\": 13,\\n    \"nome\": \"gabriel teste\",\\n    \"salario\": -3.0\\n  },\\n  {\\n    \"depto_id\": 2,\\n    \"id\": 12,\\n    \"nome\": \"amenartas\",\\n    \"salario\": 150000.0\\n  },\\n  {\\n    \"depto_id\": 1,\\n    \"id\": 20,\\n    \"nome\": \"Denis\",\\n    \"salario\": 40000.0\\n  },\\n  {\\n    \"depto_id\": 1,\\n    \"id\": 21,\\n    \"nome\": \"Alessandra\",\\n    \"salario\": 40000.0\\n  },\\n  {\\n    \"depto_id\": 1,\\n    \"id\": 22,\\n    \"nome\": \"Lara\",\\n    \"salario\": 40000.0\\n  },\\n  {\\n    \"depto_id\": 2,\\n    \"id\": 23,\\n    \"nome\": \"Delmir\",\\n    \"salario\": 10000.0\\n  },\\n  {\\n    \"depto_id\": 1,\\n    \"id\": 24,\\n    \"nome\": \"QUEOPS\",\\n    \"salario\": 3000.0\\n  },\\n  {\\n    \"depto_id\": 1,\\n    \"id\": 25,\\n    \"nome\": \"Miguel Oliveira\",\\n    \"salario\": 5000.0\\n  }\\n]\\n'"
      ]
     },
     "execution_count": 22,
     "metadata": {},
     "output_type": "execute_result"
    }
   ],
   "source": [
    "response = requests.get(\n",
    "    url = URL \n",
    ")\n",
    "response.text"
   ]
  },
  {
   "cell_type": "markdown",
   "metadata": {},
   "source": [
    "Atualizar os dados de um funcionário ????"
   ]
  },
  {
   "cell_type": "code",
   "execution_count": 8,
   "metadata": {},
   "outputs": [],
   "source": [
    "data = {\n",
    "  \"nome\": \"Estagio\",\n",
    "  \"descricao\": \"complexo\"\n",
    "}\n",
    "\n",
    "response = requests.put(\n",
    "    url = URL + \"departamentos/3\",\n",
    "    data = data\n",
    ")"
   ]
  },
  {
   "cell_type": "markdown",
   "metadata": {},
   "source": [
    "Exemplo de exclusão de um departamento"
   ]
  },
  {
   "cell_type": "code",
   "execution_count": 10,
   "metadata": {},
   "outputs": [],
   "source": [
    "response = requests.delete(\n",
    "    url = URL + \"departamentos/3\"\n",
    ")"
   ]
  }
 ],
 "metadata": {
  "kernelspec": {
   "display_name": "twinscie",
   "language": "python",
   "name": "python3"
  },
  "language_info": {
   "codemirror_mode": {
    "name": "ipython",
    "version": 3
   },
   "file_extension": ".py",
   "mimetype": "text/x-python",
   "name": "python",
   "nbconvert_exporter": "python",
   "pygments_lexer": "ipython3",
   "version": "3.10.15"
  }
 },
 "nbformat": 4,
 "nbformat_minor": 2
}
