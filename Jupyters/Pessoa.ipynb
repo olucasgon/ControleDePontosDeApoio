{
 "cells": [
  {
   "cell_type": "markdown",
   "id": "2365c99e",
   "metadata": {},
   "source": [
    "# Exemplo de uso da API(PESSOA)"
   ]
  },
  {
   "cell_type": "markdown",
   "id": "26a8abdd",
   "metadata": {},
   "source": [
    "### Definição da url de acesso a API\n"
   ]
  },
  {
   "cell_type": "code",
   "execution_count": null,
   "id": "d10cd657",
   "metadata": {},
   "outputs": [],
   "source": [
    "import requests\n",
    "URL = \"http://127.0.0.1:5000/api/pessoa\""
   ]
  },
  {
   "cell_type": "markdown",
   "id": "9ea57832",
   "metadata": {},
   "source": [
    "### Endpoint para consultar todas as pessoas deve ser "
   ]
  },
  {
   "cell_type": "code",
   "execution_count": null,
   "id": "12b493d7",
   "metadata": {},
   "outputs": [],
   "source": [
    "URL = \"http://127.0.0.1:5000/api/pessoa\""
   ]
  },
  {
   "cell_type": "markdown",
   "id": "5645a73f",
   "metadata": {},
   "source": [
    "a resposta desta requisição deve um status 200, com uma resposta de um array com as pessoas."
   ]
  },
  {
   "cell_type": "markdown",
   "id": "734b0194",
   "metadata": {},
   "source": [
    "### Endpoint para consultar uma pessoa apenas deve conter o id da pessoa que queira consultar"
   ]
  },
  {
   "cell_type": "code",
   "execution_count": null,
   "id": "56aa6dd2",
   "metadata": {},
   "outputs": [],
   "source": [
    "URL = \"http://127.0.0.1:5000/api/pessoa/{pessoa_id}\""
   ]
  },
  {
   "cell_type": "markdown",
   "id": "08929827",
   "metadata": {},
   "source": [
    "ao acessar esta requisição a resposta deve ser um status 200 ok, com o json da pessoa que queira consultar, exeplo do json de resposta"
   ]
  },
  {
   "cell_type": "code",
   "execution_count": null,
   "id": "ffeff24b",
   "metadata": {},
   "outputs": [],
   "source": [
    "{\n",
    "    \"cpf\": \"123.456.789-00\",\n",
    "    \"id\": 1,\n",
    "    \"nome\": \"João Silva\",\n",
    "    \"pontoapoio_id\": 1,\n",
    "    \"telefone\": \"21999990000\"\n",
    "}"
   ]
  },
  {
   "cell_type": "markdown",
   "id": "5e692a00",
   "metadata": {},
   "source": [
    "## Para adicionar uma pessoa "
   ]
  },
  {
   "cell_type": "code",
   "execution_count": null,
   "id": "df1df7f1",
   "metadata": {},
   "outputs": [],
   "source": [
    "URL = \"http://127.0.0.1:5000/api/pessoa\""
   ]
  },
  {
   "cell_type": "markdown",
   "id": "e7751db5",
   "metadata": {},
   "source": [
    "No corpo da requisição post, deve ter o json com o seguinte formato:"
   ]
  },
  {
   "cell_type": "code",
   "execution_count": null,
   "id": "da674981",
   "metadata": {},
   "outputs": [],
   "source": [
    "{\n",
    "  \"nome\": \"nome da pessoa\",\n",
    "  \"cpf\": \"cpf em formato 123.456.789-00\",\n",
    "  \"telefone\": \"telefone em formato 21999990000\",\n",
    "  \"pontoapoio_id\": o id do ponto de apoio em formato inteiro\n",
    "}"
   ]
  },
  {
   "cell_type": "markdown",
   "id": "9774d03c",
   "metadata": {},
   "source": [
    "A resposta desta requisição será um status 200, caso esteja tudo certo, e um status 404, caso o usuário não exista no banco de dados."
   ]
  },
  {
   "cell_type": "markdown",
   "id": "b838a5d4",
   "metadata": {},
   "source": [
    "## Para alterar uma pessoa\n"
   ]
  },
  {
   "cell_type": "code",
   "execution_count": null,
   "id": "2aefd90e",
   "metadata": {},
   "outputs": [],
   "source": [
    "URL = \"http://127.0.0.1:5000/api/pessoa/{pessoa_id}\""
   ]
  },
  {
   "cell_type": "markdown",
   "id": "fd6ee2c5",
   "metadata": {},
   "source": [
    "No corpo da requisição post, deve ter o json com o seguinte formato:"
   ]
  },
  {
   "cell_type": "code",
   "execution_count": null,
   "id": "d422ce8b",
   "metadata": {},
   "outputs": [],
   "source": [
    "{\n",
    "  \"nome\": \"nome da pessoa\",\n",
    "  \"cpf\": \"cpf em formato 123.456.789-00\",\n",
    "  \"telefone\": \"telefone em formato 21999990000\",\n",
    "  \"pontoapoio_id\": o id do ponto de apoio em formato inteiro\n",
    "}"
   ]
  },
  {
   "cell_type": "markdown",
   "id": "4b399561",
   "metadata": {},
   "source": [
    "A resposta desta requisição será um 200 OK, com o conteúdo do arquivo em formato JSON."
   ]
  },
  {
   "cell_type": "markdown",
   "id": "78ff720e",
   "metadata": {},
   "source": [
    "## Para deletar uma pessoa"
   ]
  },
  {
   "cell_type": "code",
   "execution_count": null,
   "id": "fc79b936",
   "metadata": {},
   "outputs": [],
   "source": [
    "URL = \"http://127.0.0.1:5000/api/pessoa/{pessoa_id}\""
   ]
  }
 ],
 "metadata": {
  "language_info": {
   "name": "python"
  }
 },
 "nbformat": 4,
 "nbformat_minor": 5
}
