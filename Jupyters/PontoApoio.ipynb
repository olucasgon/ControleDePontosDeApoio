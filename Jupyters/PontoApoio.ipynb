{
 "cells": [
  {
   "cell_type": "markdown",
   "id": "e00ce0ef",
   "metadata": {},
   "source": [
    "# Exemplo de uso da API(Ponto Apoio)"
   ]
  },
  {
   "cell_type": "markdown",
   "id": "319f777f",
   "metadata": {},
   "source": [
    "### Definição da url de acesso a API\n"
   ]
  },
  {
   "cell_type": "code",
   "execution_count": null,
   "id": "746b5c06",
   "metadata": {},
   "outputs": [],
   "source": [
    "import requests\n",
    "URL = \"http://127.0.0.1:5000/api/ponto_apoio\""
   ]
  },
  {
   "cell_type": "markdown",
   "id": "86ffc607",
   "metadata": {},
   "source": [
    "### Endpoint para consultar todos os pontos de apoio deve ser "
   ]
  },
  {
   "cell_type": "code",
   "execution_count": null,
   "id": "58162b68",
   "metadata": {},
   "outputs": [],
   "source": [
    "URL = \"http://127.0.0.1:5000/api/ponto_apoio\""
   ]
  },
  {
   "cell_type": "markdown",
   "id": "30c7ed79",
   "metadata": {},
   "source": [
    "a resposta desta requisição deve um status 200, com uma resposta de um array com todos os pontos de apoio registrados no banco de dados."
   ]
  },
  {
   "cell_type": "markdown",
   "id": "75f167e6",
   "metadata": {},
   "source": [
    "### Endpoint para consultar um ponto de apoio, apenas deve conter o id do ponto de apoio que queira consultar"
   ]
  },
  {
   "cell_type": "code",
   "execution_count": null,
   "id": "acf55389",
   "metadata": {},
   "outputs": [],
   "source": [
    "URL = \"http://127.0.0.1:5000/api/ponto_apoio/{ponto_apoio}\""
   ]
  },
  {
   "cell_type": "markdown",
   "id": "69eff2db",
   "metadata": {},
   "source": [
    "ao acessar esta requisição a resposta deve ser um status 200 ok, com o json do ponto de apoio que queira consultar, exeplo do json de resposta"
   ]
  },
  {
   "cell_type": "code",
   "execution_count": null,
   "id": "7e6cec6d",
   "metadata": {},
   "outputs": [],
   "source": [
    "{\n",
    "    \"capacidade\": 100,\n",
    "    \"id\": 2,\n",
    "    \"latitude\": -22.502345,\n",
    "    \"longitude\": -43.185678,\n",
    "    \"nome\": \"Ponto B\"\n",
    "}"
   ]
  },
  {
   "cell_type": "markdown",
   "id": "dca47794",
   "metadata": {},
   "source": [
    "## Para adicionar um ponto de apoio"
   ]
  },
  {
   "cell_type": "code",
   "execution_count": null,
   "id": "7a318aa9",
   "metadata": {},
   "outputs": [],
   "source": [
    "URL = \"http://127.0.0.1:5000/api/ponto_apoio\""
   ]
  },
  {
   "cell_type": "markdown",
   "id": "00bb8dcf",
   "metadata": {},
   "source": [
    "No corpo da requisição post, deve ter o json com o seguinte formato:"
   ]
  },
  {
   "cell_type": "code",
   "execution_count": null,
   "id": "9a2c675e",
   "metadata": {},
   "outputs": [],
   "source": [
    "{\n",
    "  \"nome\": \"Nome do ponto de apoio\"\n",
    "  \"latitude\": \"a latitude com valor numérico\",\n",
    "  \"longitude\": \"a longitude com valor numérico\",\n",
    "  \"capacidade\": \"a capacidade do ponto de apoio em número inteiro\"\n",
    "}"
   ]
  },
  {
   "cell_type": "markdown",
   "id": "c8d3cfce",
   "metadata": {},
   "source": [
    "A resposta desta requisição será um status 200, caso esteja tudo certo, e um status 404, caso o ponto de apoio já exista no banco de dados."
   ]
  },
  {
   "cell_type": "markdown",
   "id": "4a1ca761",
   "metadata": {},
   "source": [
    "## Para alterar um ponto de apoio\n"
   ]
  },
  {
   "cell_type": "code",
   "execution_count": null,
   "id": "b193c360",
   "metadata": {},
   "outputs": [],
   "source": [
    "URL = \"http://127.0.0.1:5000/api/ponto_apoio/{ponto_apoio}\""
   ]
  },
  {
   "cell_type": "markdown",
   "id": "e8845dc1",
   "metadata": {},
   "source": [
    "No corpo da requisição post, deve ter o json com o seguinte formato:"
   ]
  },
  {
   "cell_type": "code",
   "execution_count": null,
   "id": "29270f74",
   "metadata": {},
   "outputs": [],
   "source": [
    "{\n",
    "  \"nome\": \"Nome do ponto de apoio\"\n",
    "  \"latitude\": \"a latitude com valor numérico\",\n",
    "  \"longitude\": \"a longitude com valor numérico\",\n",
    "  \"capacidade\": \"a capacidade do ponto de apoio em número inteiro\"\n",
    "}"
   ]
  },
  {
   "cell_type": "markdown",
   "id": "92792826",
   "metadata": {},
   "source": [
    "A resposta desta requisição será um 200 OK, com o conteúdo do arquivo em formato JSON."
   ]
  },
  {
   "cell_type": "markdown",
   "id": "6c3eaccd",
   "metadata": {},
   "source": [
    "## Para deletar uma ponto de apoio"
   ]
  },
  {
   "cell_type": "code",
   "execution_count": null,
   "id": "08c41d8a",
   "metadata": {},
   "outputs": [],
   "source": [
    "URL = \"http://127.0.0.1:5000/api/ponto_apoio/{ponto_apoio}\""
   ]
  }
 ],
 "metadata": {
  "language_info": {
   "name": "python"
  }
 },
 "nbformat": 4,
 "nbformat_minor": 5
}
