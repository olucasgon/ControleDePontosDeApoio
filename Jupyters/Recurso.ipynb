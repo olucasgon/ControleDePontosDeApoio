{
 "cells": [
  {
   "cell_type": "markdown",
   "id": "57e7b429",
   "metadata": {},
   "source": [
    "# Exemplo de uso da API(Recurso)"
   ]
  },
  {
   "cell_type": "markdown",
   "id": "f2d59c5e",
   "metadata": {},
   "source": [
    "### Definição da url de acesso a API\n"
   ]
  },
  {
   "cell_type": "code",
   "execution_count": null,
   "id": "4e6bcba0",
   "metadata": {},
   "outputs": [],
   "source": [
    "import requests\n",
    "URL = \"http://127.0.0.1:5000/api/recurso\""
   ]
  },
  {
   "cell_type": "markdown",
   "id": "348d3857",
   "metadata": {},
   "source": [
    "### Endpoint para consultar todos os recursos deve ser "
   ]
  },
  {
   "cell_type": "code",
   "execution_count": null,
   "id": "bbdb1cc4",
   "metadata": {},
   "outputs": [],
   "source": [
    "URL = \"http://127.0.0.1:5000/api/recurso\""
   ]
  },
  {
   "cell_type": "markdown",
   "id": "62cc2416",
   "metadata": {},
   "source": [
    "a resposta desta requisição deve um status 200, com uma resposta de um array com todos os recursos registrados no banco de dados."
   ]
  },
  {
   "cell_type": "markdown",
   "id": "d6b4c0cb",
   "metadata": {},
   "source": [
    "### Endpoint para consultar um recurso, apenas deve conter o id do recurso que queira consultar"
   ]
  },
  {
   "cell_type": "code",
   "execution_count": null,
   "id": "721b7d84",
   "metadata": {},
   "outputs": [],
   "source": [
    "URL = \"http://127.0.0.1:5000/api/recurso/{recurso_id}\""
   ]
  },
  {
   "cell_type": "code",
   "execution_count": null,
   "id": "3fd45db9",
   "metadata": {},
   "outputs": [],
   "source": [
    "{\n",
    "    \"id\": 2,\n",
    "    \"nome\": \"Barraca\",\n",
    "    \"pontoapoio_id\": 2,\n",
    "    \"quantidade\": 10\n",
    "}"
   ]
  },
  {
   "cell_type": "markdown",
   "id": "a374236c",
   "metadata": {},
   "source": [
    "## Para adicionar um recurso"
   ]
  },
  {
   "cell_type": "code",
   "execution_count": null,
   "id": "a544aafc",
   "metadata": {},
   "outputs": [],
   "source": [
    "URL = \"http://127.0.0.1:5000/api/recurso\""
   ]
  },
  {
   "cell_type": "markdown",
   "id": "4ed03898",
   "metadata": {},
   "source": [
    "No corpo da requisição post, deve ter o json com o seguinte formato:"
   ]
  },
  {
   "cell_type": "code",
   "execution_count": null,
   "id": "aad38e18",
   "metadata": {},
   "outputs": [],
   "source": [
    "{\n",
    "    \"nome\": \"nome do recurso\",\n",
    "    \"quantidade\": quantidade,\n",
    "    \"pontoapoio_id\": id do ponto de apoio\n",
    "}"
   ]
  },
  {
   "cell_type": "markdown",
   "id": "e3554293",
   "metadata": {},
   "source": [
    "## Para alterar um Recurso\n",
    "\n"
   ]
  },
  {
   "cell_type": "code",
   "execution_count": null,
   "id": "defb9e38",
   "metadata": {},
   "outputs": [],
   "source": [
    "URL = \"http://127.0.0.1:5000/api/recurso/{recurso_id}\""
   ]
  },
  {
   "cell_type": "markdown",
   "id": "3e97de58",
   "metadata": {},
   "source": [
    "No corpo da requisição post, deve ter o json com o seguinte formato:"
   ]
  },
  {
   "cell_type": "code",
   "execution_count": null,
   "id": "08fc5ff1",
   "metadata": {},
   "outputs": [],
   "source": [
    "{\n",
    "    \"nome\": \"nome do recurso\",\n",
    "    \"quantidade\": quantidade,\n",
    "    \"pontoapoio_id\": id do ponto de apoio\n",
    "}"
   ]
  },
  {
   "cell_type": "markdown",
   "id": "d5e3ee23",
   "metadata": {},
   "source": [
    "A resposta desta requisição será um 200 OK, com o conteúdo do arquivo em formato JSON."
   ]
  },
  {
   "cell_type": "markdown",
   "id": "83b3d372",
   "metadata": {},
   "source": [
    "## Para deletar uma ponto de apoio"
   ]
  },
  {
   "cell_type": "code",
   "execution_count": null,
   "id": "98c9085f",
   "metadata": {},
   "outputs": [],
   "source": [
    "URL = \"http://127.0.0.1:5000/api/recurso/{recurso_id}\""
   ]
  }
 ],
 "metadata": {
  "language_info": {
   "name": "python"
  }
 },
 "nbformat": 4,
 "nbformat_minor": 5
}
