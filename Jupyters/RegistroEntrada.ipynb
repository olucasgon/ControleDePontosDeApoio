{
 "cells": [
  {
   "cell_type": "markdown",
   "id": "36f73127",
   "metadata": {},
   "source": [
    "# Exemplo de uso da API(Registro Entrada)"
   ]
  },
  {
   "cell_type": "markdown",
   "id": "c9ba0876",
   "metadata": {},
   "source": [
    "### Definição da url de acesso a API\n"
   ]
  },
  {
   "cell_type": "code",
   "execution_count": null,
   "id": "dcb14919",
   "metadata": {},
   "outputs": [],
   "source": [
    "import requests\n",
    "URL = \"http://127.0.0.1:5000/api/registro_entrada\""
   ]
  },
  {
   "cell_type": "markdown",
   "id": "ca9870cb",
   "metadata": {},
   "source": [
    "### Endpoint para consultar todos os registros deve ser "
   ]
  },
  {
   "cell_type": "code",
   "execution_count": null,
   "id": "540beec3",
   "metadata": {},
   "outputs": [],
   "source": [
    "URL = \"http://127.0.0.1:5000/api/registro_entrada\""
   ]
  },
  {
   "cell_type": "markdown",
   "id": "39563c55",
   "metadata": {},
   "source": [
    "a resposta desta requisição deve um status 200, com uma resposta de um array com os registros de entrada. registrados no banco de dados."
   ]
  },
  {
   "cell_type": "markdown",
   "id": "7d4910c0",
   "metadata": {},
   "source": [
    "### Endpoint para consultar um registro de entrada, apenas deve conter o id do registro que queira consultar"
   ]
  },
  {
   "cell_type": "code",
   "execution_count": null,
   "id": "644ddb76",
   "metadata": {},
   "outputs": [],
   "source": [
    "URL = \"http://127.0.0.1:5000/api/registro_entrada/{registro_id}\""
   ]
  },
  {
   "cell_type": "code",
   "execution_count": null,
   "id": "ddad3d66",
   "metadata": {},
   "outputs": [],
   "source": [
    "{\n",
    "    \"entrada\": \"2025-06-01T08:00:00\",\n",
    "    \"id\": 1,\n",
    "    \"pessoa_id\": 1,\n",
    "    \"pontoapoio_id\": 1,\n",
    "    \"saida\": \"2025-06-01T17:00:00\"\n",
    "}"
   ]
  },
  {
   "cell_type": "markdown",
   "id": "8f757ed5",
   "metadata": {},
   "source": [
    "## Para adicionar um registro de entrada\n",
    " "
   ]
  },
  {
   "cell_type": "code",
   "execution_count": null,
   "id": "d9de6865",
   "metadata": {},
   "outputs": [],
   "source": [
    "URL = \"http://127.0.0.1:5000/api/registro_entrada\""
   ]
  },
  {
   "cell_type": "markdown",
   "id": "e359ccc4",
   "metadata": {},
   "source": [
    "No corpo da requisição post, deve ter o json com o seguinte formato:"
   ]
  },
  {
   "cell_type": "code",
   "execution_count": null,
   "id": "0b25224c",
   "metadata": {},
   "outputs": [],
   "source": [
    "{\n",
    "  \"pessoa_id\": id da pessoa,\n",
    "  \"pontoapoio_id\": id do ponto de apoio,\n",
    "  \"entrada\": \"data e hora de entrada no formato ISO 8601\",\n",
    "  \"saida\": \"data e hora de entrada no formato ISO 8601\"\n",
    "}"
   ]
  },
  {
   "cell_type": "markdown",
   "id": "a9c77ec5",
   "metadata": {},
   "source": [
    "A resposta desta requisição será um status 200, caso esteja tudo certo."
   ]
  },
  {
   "cell_type": "markdown",
   "id": "8a5f377e",
   "metadata": {},
   "source": [
    "## Para alterar um registro de entrada"
   ]
  },
  {
   "cell_type": "code",
   "execution_count": null,
   "id": "910f7d8c",
   "metadata": {},
   "outputs": [],
   "source": [
    "URL = \"http://127.0.0.1:5000/api/registro_entrada/{registro_id}\""
   ]
  },
  {
   "cell_type": "markdown",
   "id": "a8ce1657",
   "metadata": {},
   "source": [
    "No corpo da requisição post, deve ter o json com o seguinte formato:"
   ]
  },
  {
   "cell_type": "code",
   "execution_count": null,
   "id": "27b70e56",
   "metadata": {},
   "outputs": [],
   "source": [
    "{\n",
    "  \"pessoa_id\": id da pessoa,\n",
    "  \"pontoapoio_id\": id do ponto de apoio,\n",
    "  \"entrada\": \"data e hora de entrada no formato ISO 8601\",\n",
    "  \"saida\": \"data e hora de entrada no formato ISO 8601\"\n",
    "}"
   ]
  },
  {
   "cell_type": "markdown",
   "id": "5dfdcf00",
   "metadata": {},
   "source": [
    "A resposta desta requisição será um 200 OK, com o conteúdo do arquivo em formato JSON."
   ]
  },
  {
   "cell_type": "markdown",
   "id": "60108230",
   "metadata": {},
   "source": [
    "## Para deletar uma registro de entrada"
   ]
  },
  {
   "cell_type": "code",
   "execution_count": null,
   "id": "45ee73dd",
   "metadata": {},
   "outputs": [],
   "source": [
    "URL = \"http://127.0.0.1:5000/api/registro_entrada/{registro_id}\""
   ]
  }
 ],
 "metadata": {
  "language_info": {
   "name": "python"
  }
 },
 "nbformat": 4,
 "nbformat_minor": 5
}
