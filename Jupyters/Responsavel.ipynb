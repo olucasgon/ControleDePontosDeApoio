{
 "cells": [
  {
   "cell_type": "markdown",
   "id": "b965808e",
   "metadata": {},
   "source": [
    "# Exemplo de uso da API(Responsavel)"
   ]
  },
  {
   "cell_type": "markdown",
   "id": "a8d2bcd5",
   "metadata": {},
   "source": [
    "### Definição da url de acesso a API\n"
   ]
  },
  {
   "cell_type": "code",
   "execution_count": null,
   "id": "d7f15639",
   "metadata": {},
   "outputs": [],
   "source": [
    "import requests\n",
    "URL = \"http://127.0.0.1:5000/api/responsavel\""
   ]
  },
  {
   "cell_type": "markdown",
   "id": "bd61b79a",
   "metadata": {},
   "source": [
    "### Endpoint para consultar todas as pessoas deve ser "
   ]
  },
  {
   "cell_type": "code",
   "execution_count": null,
   "id": "5a3c33a2",
   "metadata": {},
   "outputs": [],
   "source": [
    "URL = \"http://127.0.0.1:5000/api/responsavel\""
   ]
  },
  {
   "cell_type": "markdown",
   "id": "75b3aa82",
   "metadata": {},
   "source": [
    "a resposta desta requisição deve um status 200, com uma resposta de um array com os responsaveis registrados no banco de dados."
   ]
  },
  {
   "cell_type": "markdown",
   "id": "cd6d1a9a",
   "metadata": {},
   "source": [
    "### Endpoint para consultar um responsavel, apenas deve conter o id da responsavel que queira consultar"
   ]
  },
  {
   "cell_type": "code",
   "execution_count": null,
   "id": "d26b6ee9",
   "metadata": {},
   "outputs": [],
   "source": [
    "URL = \"http://127.0.0.1:5000/api/responsavel{responsavel_id}\""
   ]
  },
  {
   "cell_type": "code",
   "execution_count": null,
   "id": "ac90c944",
   "metadata": {},
   "outputs": [],
   "source": [
    "{\n",
    "    \"codigo\": \"R003\",\n",
    "    \"id\": 3,\n",
    "    \"pessoa_id\": 3,\n",
    "    \"pontoapoio_id\": 3\n",
    "}"
   ]
  },
  {
   "cell_type": "markdown",
   "id": "30890912",
   "metadata": {},
   "source": [
    "## Para adicionar um responsavel\n",
    " "
   ]
  },
  {
   "cell_type": "code",
   "execution_count": null,
   "id": "2b34d473",
   "metadata": {},
   "outputs": [],
   "source": [
    "URL = \"http://127.0.0.1:5000/api/responsavel\""
   ]
  },
  {
   "cell_type": "markdown",
   "id": "115e67bf",
   "metadata": {},
   "source": [
    "No corpo da requisição post, deve ter o json com o seguinte formato:"
   ]
  },
  {
   "cell_type": "code",
   "execution_count": null,
   "id": "f50cfb76",
   "metadata": {},
   "outputs": [],
   "source": [
    "{\n",
    "  \"codigo\": \"codigo do responsavel\",\n",
    "  \"pessoa_id\": id da pessoa,\n",
    "  \"pontoapoio_id\": id do ponto de apoio\n",
    "}\n"
   ]
  },
  {
   "cell_type": "markdown",
   "id": "365f5aae",
   "metadata": {},
   "source": [
    "A resposta desta requisição será um status 200, caso esteja tudo certo."
   ]
  },
  {
   "cell_type": "markdown",
   "id": "bcb869a3",
   "metadata": {},
   "source": [
    "## Para alterar um responsavel"
   ]
  },
  {
   "cell_type": "code",
   "execution_count": null,
   "id": "1ae24c64",
   "metadata": {},
   "outputs": [],
   "source": [
    "URL = \"http://127.0.0.1:5000/api/responsavel{responsavel_id}\""
   ]
  },
  {
   "cell_type": "markdown",
   "id": "15761822",
   "metadata": {},
   "source": [
    "No corpo da requisição post, deve ter o json com o seguinte formato:"
   ]
  },
  {
   "cell_type": "code",
   "execution_count": null,
   "id": "e7acc633",
   "metadata": {},
   "outputs": [],
   "source": [
    "{\n",
    "  \"codigo\": \"codigo do responsavel\",\n",
    "  \"pessoa_id\": id da pessoa,\n",
    "  \"pontoapoio_id\": id do ponto de apoio\n",
    "}\n"
   ]
  },
  {
   "cell_type": "markdown",
   "id": "ae108163",
   "metadata": {},
   "source": [
    "A resposta desta requisição será um 200 OK, com o conteúdo do arquivo em formato JSON."
   ]
  },
  {
   "cell_type": "markdown",
   "id": "ebf6a6f3",
   "metadata": {},
   "source": [
    "## Para deletar uma responsavel"
   ]
  },
  {
   "cell_type": "code",
   "execution_count": null,
   "id": "1d4a1b71",
   "metadata": {},
   "outputs": [],
   "source": [
    "URL = \"http://127.0.0.1:5000/api/responsavel{responsavel_id}\""
   ]
  }
 ],
 "metadata": {
  "language_info": {
   "name": "python"
  }
 },
 "nbformat": 4,
 "nbformat_minor": 5
}
